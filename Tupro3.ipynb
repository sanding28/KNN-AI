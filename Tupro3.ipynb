{
  "nbformat": 4,
  "nbformat_minor": 0,
  "metadata": {
    "colab": {
      "name": "Tupro3.ipynb",
      "provenance": [],
      "collapsed_sections": []
    },
    "kernelspec": {
      "name": "python3",
      "display_name": "Python 3"
    },
    "language_info": {
      "name": "python"
    }
  },
  "cells": [
    {
      "cell_type": "code",
      "metadata": {
        "id": "MFarw5f3HvYF"
      },
      "source": [
        "import pandas as pd\n",
        "import numpy as np\n",
        "import math"
      ],
      "execution_count": 106,
      "outputs": []
    },
    {
      "cell_type": "code",
      "metadata": {
        "id": "Nt9jwA4II_Ce"
      },
      "source": [
        "def data_excel(data):\n",
        "    xls = pd.read_csv(data)\n",
        "    return xls"
      ],
      "execution_count": 107,
      "outputs": []
    },
    {
      "cell_type": "code",
      "metadata": {
        "id": "M8BL0YuSJhM7",
        "colab": {
          "base_uri": "https://localhost:8080/",
          "height": 550
        },
        "outputId": "b0cae877-a362-4c66-ef9d-8f38dd137243"
      },
      "source": [
        "df = data_excel('https://github.com/sanding28/KNN-AI/raw/main/mobil.csv')\n",
        "df"
      ],
      "execution_count": 108,
      "outputs": [
        {
          "output_type": "execute_result",
          "data": {
            "text/html": [
              "<div>\n",
              "<style scoped>\n",
              "    .dataframe tbody tr th:only-of-type {\n",
              "        vertical-align: middle;\n",
              "    }\n",
              "\n",
              "    .dataframe tbody tr th {\n",
              "        vertical-align: top;\n",
              "    }\n",
              "\n",
              "    .dataframe thead th {\n",
              "        text-align: right;\n",
              "    }\n",
              "</style>\n",
              "<table border=\"1\" class=\"dataframe\">\n",
              "  <thead>\n",
              "    <tr style=\"text-align: right;\">\n",
              "      <th></th>\n",
              "      <th>Nama Mobil</th>\n",
              "      <th>Ukuran</th>\n",
              "      <th>Kenyamanan</th>\n",
              "      <th>Irit</th>\n",
              "      <th>Kecepatan</th>\n",
              "      <th>Harga (Ratus Juta)</th>\n",
              "    </tr>\n",
              "  </thead>\n",
              "  <tbody>\n",
              "    <tr>\n",
              "      <th>0</th>\n",
              "      <td>Toyota Agya</td>\n",
              "      <td>4</td>\n",
              "      <td>4</td>\n",
              "      <td>9</td>\n",
              "      <td>6</td>\n",
              "      <td>1.00</td>\n",
              "    </tr>\n",
              "    <tr>\n",
              "      <th>1</th>\n",
              "      <td>Daihatsu Alya</td>\n",
              "      <td>4</td>\n",
              "      <td>3</td>\n",
              "      <td>9</td>\n",
              "      <td>6</td>\n",
              "      <td>1.10</td>\n",
              "    </tr>\n",
              "    <tr>\n",
              "      <th>2</th>\n",
              "      <td>Toyota Avanza</td>\n",
              "      <td>6</td>\n",
              "      <td>5</td>\n",
              "      <td>6</td>\n",
              "      <td>6</td>\n",
              "      <td>2.00</td>\n",
              "    </tr>\n",
              "    <tr>\n",
              "      <th>3</th>\n",
              "      <td>Daihatsu Xenia</td>\n",
              "      <td>6</td>\n",
              "      <td>4</td>\n",
              "      <td>6</td>\n",
              "      <td>6</td>\n",
              "      <td>1.75</td>\n",
              "    </tr>\n",
              "    <tr>\n",
              "      <th>4</th>\n",
              "      <td>Xpander</td>\n",
              "      <td>7</td>\n",
              "      <td>7</td>\n",
              "      <td>6</td>\n",
              "      <td>7</td>\n",
              "      <td>2.25</td>\n",
              "    </tr>\n",
              "    <tr>\n",
              "      <th>5</th>\n",
              "      <td>Livina</td>\n",
              "      <td>7</td>\n",
              "      <td>7</td>\n",
              "      <td>6</td>\n",
              "      <td>7</td>\n",
              "      <td>2.10</td>\n",
              "    </tr>\n",
              "    <tr>\n",
              "      <th>6</th>\n",
              "      <td>Karimun</td>\n",
              "      <td>3</td>\n",
              "      <td>4</td>\n",
              "      <td>10</td>\n",
              "      <td>5</td>\n",
              "      <td>1.20</td>\n",
              "    </tr>\n",
              "    <tr>\n",
              "      <th>7</th>\n",
              "      <td>Toyota Innova</td>\n",
              "      <td>8</td>\n",
              "      <td>8</td>\n",
              "      <td>5</td>\n",
              "      <td>7</td>\n",
              "      <td>4.00</td>\n",
              "    </tr>\n",
              "    <tr>\n",
              "      <th>8</th>\n",
              "      <td>Alphard</td>\n",
              "      <td>9</td>\n",
              "      <td>10</td>\n",
              "      <td>4</td>\n",
              "      <td>8</td>\n",
              "      <td>10.00</td>\n",
              "    </tr>\n",
              "    <tr>\n",
              "      <th>9</th>\n",
              "      <td>Toyota Vios</td>\n",
              "      <td>5</td>\n",
              "      <td>7</td>\n",
              "      <td>9</td>\n",
              "      <td>8</td>\n",
              "      <td>2.50</td>\n",
              "    </tr>\n",
              "    <tr>\n",
              "      <th>10</th>\n",
              "      <td>Honda City</td>\n",
              "      <td>5</td>\n",
              "      <td>8</td>\n",
              "      <td>7</td>\n",
              "      <td>8</td>\n",
              "      <td>2.70</td>\n",
              "    </tr>\n",
              "    <tr>\n",
              "      <th>11</th>\n",
              "      <td>Toyota Hiace</td>\n",
              "      <td>10</td>\n",
              "      <td>5</td>\n",
              "      <td>8</td>\n",
              "      <td>6</td>\n",
              "      <td>5.00</td>\n",
              "    </tr>\n",
              "    <tr>\n",
              "      <th>12</th>\n",
              "      <td>Toyota Fortuner</td>\n",
              "      <td>9</td>\n",
              "      <td>8</td>\n",
              "      <td>5</td>\n",
              "      <td>8</td>\n",
              "      <td>5.00</td>\n",
              "    </tr>\n",
              "    <tr>\n",
              "      <th>13</th>\n",
              "      <td>Toyota Foxy</td>\n",
              "      <td>9</td>\n",
              "      <td>9</td>\n",
              "      <td>5</td>\n",
              "      <td>7</td>\n",
              "      <td>5.50</td>\n",
              "    </tr>\n",
              "    <tr>\n",
              "      <th>14</th>\n",
              "      <td>Toyota Corolla Altis</td>\n",
              "      <td>5</td>\n",
              "      <td>9</td>\n",
              "      <td>7</td>\n",
              "      <td>9</td>\n",
              "      <td>6.00</td>\n",
              "    </tr>\n",
              "    <tr>\n",
              "      <th>15</th>\n",
              "      <td>Suzuki Ertiga</td>\n",
              "      <td>7</td>\n",
              "      <td>7</td>\n",
              "      <td>7</td>\n",
              "      <td>7</td>\n",
              "      <td>2.30</td>\n",
              "    </tr>\n",
              "    <tr>\n",
              "      <th>16</th>\n",
              "      <td>Suzuki Carry</td>\n",
              "      <td>7</td>\n",
              "      <td>3</td>\n",
              "      <td>9</td>\n",
              "      <td>5</td>\n",
              "      <td>0.80</td>\n",
              "    </tr>\n",
              "  </tbody>\n",
              "</table>\n",
              "</div>"
            ],
            "text/plain": [
              "              Nama Mobil  Ukuran  ...  Kecepatan  Harga (Ratus Juta)\n",
              "0            Toyota Agya       4  ...          6                1.00\n",
              "1          Daihatsu Alya       4  ...          6                1.10\n",
              "2          Toyota Avanza       6  ...          6                2.00\n",
              "3         Daihatsu Xenia       6  ...          6                1.75\n",
              "4                Xpander       7  ...          7                2.25\n",
              "5                 Livina       7  ...          7                2.10\n",
              "6                Karimun       3  ...          5                1.20\n",
              "7          Toyota Innova       8  ...          7                4.00\n",
              "8                Alphard       9  ...          8               10.00\n",
              "9            Toyota Vios       5  ...          8                2.50\n",
              "10            Honda City       5  ...          8                2.70\n",
              "11          Toyota Hiace      10  ...          6                5.00\n",
              "12       Toyota Fortuner       9  ...          8                5.00\n",
              "13           Toyota Foxy       9  ...          7                5.50\n",
              "14  Toyota Corolla Altis       5  ...          9                6.00\n",
              "15         Suzuki Ertiga       7  ...          7                2.30\n",
              "16          Suzuki Carry       7  ...          5                0.80\n",
              "\n",
              "[17 rows x 6 columns]"
            ]
          },
          "metadata": {
            "tags": []
          },
          "execution_count": 108
        }
      ]
    },
    {
      "cell_type": "code",
      "metadata": {
        "id": "Tw5RAu6LJfW1",
        "colab": {
          "base_uri": "https://localhost:8080/"
        },
        "outputId": "4ee28ddf-5492-4570-99d0-10643da75656"
      },
      "source": [
        "df.info()"
      ],
      "execution_count": 109,
      "outputs": [
        {
          "output_type": "stream",
          "text": [
            "<class 'pandas.core.frame.DataFrame'>\n",
            "RangeIndex: 17 entries, 0 to 16\n",
            "Data columns (total 6 columns):\n",
            " #   Column              Non-Null Count  Dtype  \n",
            "---  ------              --------------  -----  \n",
            " 0   Nama Mobil          17 non-null     object \n",
            " 1   Ukuran              17 non-null     int64  \n",
            " 2   Kenyamanan          17 non-null     int64  \n",
            " 3   Irit                17 non-null     int64  \n",
            " 4   Kecepatan           17 non-null     int64  \n",
            " 5   Harga (Ratus Juta)  17 non-null     float64\n",
            "dtypes: float64(1), int64(4), object(1)\n",
            "memory usage: 944.0+ bytes\n"
          ],
          "name": "stdout"
        }
      ]
    },
    {
      "cell_type": "code",
      "metadata": {
        "id": "Fi_xWt1RTI0X",
        "colab": {
          "base_uri": "https://localhost:8080/"
        },
        "outputId": "1090e465-9476-4551-c1bb-560a7884bba8"
      },
      "source": [
        "#Input data test\n",
        "print(\"Masukan Kriteria Mobil yang diinginkan :\")\n",
        "Ukuran = float(input(\"Ukuran: \"))\n",
        "Kenyamanan = float(input(\"Kenyamanan: \"))\n",
        "Irit = float(input(\"Irit: \"))\n",
        "Kecepatan = float(input(\"Kecepatan: \"))\n",
        "Harga = float(input(\"Harga: \"))\n",
        "\n",
        "datatest = {'Ukuran':[Ukuran],'Kenyamanan':[Kenyamanan],'Irit':[Irit],'Kecepatan':[Kecepatan], 'Harga (Ratus Juta)':[Harga]}\n",
        "datatest = pd.DataFrame(datatest)"
      ],
      "execution_count": 110,
      "outputs": [
        {
          "output_type": "stream",
          "text": [
            "Masukan Kriteria Mobil yang diinginkan :\n",
            "Ukuran: 6\n",
            "Kenyamanan: 5\n",
            "Irit: 8\n",
            "Kecepatan: 5\n",
            "Harga: 3.0\n"
          ],
          "name": "stdout"
        }
      ]
    },
    {
      "cell_type": "code",
      "metadata": {
        "id": "9-dkaBzcJKa9"
      },
      "source": [
        "#Fungsi Rumus menghitung jarak Euclidean\n",
        "def euclidean_distance(data, datatest):\n",
        "    disteuc = 0 \n",
        "    for col in data.items():\n",
        "      nama_column = col[0]\n",
        "      value_column = col[1]\n",
        "      if not nama_column == 'Nama Mobil':\n",
        "        valueDatatest = datatest[nama_column][0]\n",
        "        disteuc += (value_column - valueDatatest)**2 \n",
        "\n",
        "    return (data[\"Nama Mobil\"], math.sqrt(disteuc)) \n",
        "\n",
        "#Fungsi Rumus menghitung jarak Manhattan\n",
        "def manhattan_distance(data, datatest):\n",
        "    distmanh = 0 # ini ganti\n",
        "    for col in data.items():\n",
        "      nama_column = col[0]\n",
        "      value_column = col[1]\n",
        "      if not nama_column == 'Nama Mobil':\n",
        "        valueDatatest = datatest[nama_column][0]\n",
        "        distmanh += (value_column - valueDatatest) \n",
        "\n",
        "    return (data[\"Nama Mobil\"], np.fabs(distmanh)) \n",
        "\n",
        "#Fungsi Rumus menghitung jarak Minkowski\n",
        "def minkowski_distance(data, datatest, t):\n",
        "    distmink = 0 # ini ganti\n",
        "    for col in data.items():\n",
        "      nama_column = col[0]\n",
        "      value_column = col[1]\n",
        "      if not nama_column == 'Nama Mobil':\n",
        "        valueDatatest = datatest[nama_column][0]\n",
        "        distmink += np.power(np.power(np.abs(value_column - valueDatatest), t), 1/t) \n",
        "\n",
        "    return (data[\"Nama Mobil\"], distmink) \n",
        "\n",
        "#Fungsi Rumus menghitung jarak Supremum\n",
        "def supremum_distance(data, datatest):\n",
        "    distsuprem = 0 \n",
        "    hslsuprem = []\n",
        "    for col in data.items():\n",
        "      nama_column = col[0]\n",
        "      value_column = col[1]\n",
        "      if not nama_column == 'Nama Mobil':\n",
        "        valueDatatest = datatest[nama_column][0]\n",
        "        hslsuprem.append(np.fabs(value_column - valueDatatest)) \n",
        "\n",
        "    return (data[\"Nama Mobil\"], max(hslsuprem)) "
      ],
      "execution_count": 111,
      "outputs": []
    },
    {
      "cell_type": "code",
      "metadata": {
        "id": "nKB8Q7sYKECN",
        "colab": {
          "base_uri": "https://localhost:8080/"
        },
        "outputId": "8fae33b5-7cec-4b29-e642-b343dab7be8c"
      },
      "source": [
        "#Output 3 terbaik Euclidean\n",
        "euclidean = [] \n",
        "for index, row in df.iterrows() :\n",
        "    result = euclidean_distance(row, datatest) \n",
        "    euclidean.append(result) \n",
        "\n",
        "sortedeuclidean = sorted(euclidean, key=lambda x: x[1])[:3] \n",
        "print(\"3 Rekomendasi Mobil Terbaik menggunakan Euclidean\")\n",
        "print(sortedeuclidean) "
      ],
      "execution_count": 112,
      "outputs": [
        {
          "output_type": "stream",
          "text": [
            "3 Rekomendasi Mobil Terbaik menggunakan Euclidean\n",
            "[('Toyota Avanza', 2.449489742783178), ('Daihatsu Xenia', 2.75), ('Suzuki Ertiga', 3.2388269481403293)]\n"
          ],
          "name": "stdout"
        }
      ]
    },
    {
      "cell_type": "code",
      "metadata": {
        "id": "WaDYqAT9KPI7",
        "colab": {
          "base_uri": "https://localhost:8080/"
        },
        "outputId": "a310fb67-735f-4843-f2ed-5c958fd5f3f4"
      },
      "source": [
        "#Output 3 terbaik Manhattan\n",
        "manhattan = [] # ini beda\n",
        "for index, row in df.iterrows() :\n",
        "    result = manhattan_distance(row, datatest)\n",
        "    manhattan.append(result)\n",
        "\n",
        "sortedmanhattan = sorted(manhattan, key=lambda x: x[1])[:3]\n",
        "print(\"3 Rekomendasi Mobil Terbaik menggunakan Manhttan\")\n",
        "print(sortedmanhattan)"
      ],
      "execution_count": 113,
      "outputs": [
        {
          "output_type": "stream",
          "text": [
            "3 Rekomendasi Mobil Terbaik menggunakan Manhttan\n",
            "[('Toyota Avanza', 2.0), ('Livina', 2.1), ('Suzuki Carry', 2.2)]\n"
          ],
          "name": "stdout"
        }
      ]
    },
    {
      "cell_type": "code",
      "metadata": {
        "id": "2Eg8hXdDKVLw",
        "colab": {
          "base_uri": "https://localhost:8080/"
        },
        "outputId": "8aae0ba9-8a1b-4d4a-e44d-1d69fd0cfe2c"
      },
      "source": [
        "#Output 3 terbaik Minkowski\n",
        "minkowski = []\n",
        "for index, row in df.iterrows() :\n",
        "    result = minkowski_distance(row, datatest, 2)\n",
        "    minkowski.append(result)\n",
        "\n",
        "sortedminkowski = sorted(minkowski, key=lambda x: x[1])[:3]\n",
        "print(\"3 Rekomendasi Mobil Terbaik menggunakan Minkowski\")\n",
        "print(sortedminkowski)"
      ],
      "execution_count": 117,
      "outputs": [
        {
          "output_type": "stream",
          "text": [
            "3 Rekomendasi Mobil Terbaik menggunakan Minkowski\n",
            "[('Toyota Avanza', 4.0), ('Daihatsu Xenia', 5.25), ('Suzuki Carry', 6.2)]\n"
          ],
          "name": "stdout"
        }
      ]
    },
    {
      "cell_type": "code",
      "metadata": {
        "id": "D18XYFaDKYXy",
        "colab": {
          "base_uri": "https://localhost:8080/"
        },
        "outputId": "e37bce1a-9b3a-457b-fa18-52576310afc2"
      },
      "source": [
        "#Output 3 terbaik Supremum\n",
        "supremum = []\n",
        "for index, row in df.iterrows() :\n",
        "    result = supremum_distance(row, datatest)\n",
        "    supremum.append(result)\n",
        "\n",
        "sortedsupremum = sorted(supremum, key=lambda x: x[1])[:3] \n",
        "print(\"3 Rekomendasi Mobil Terbaik menggunakan Supremum\")\n",
        "print(sortedsupremum) "
      ],
      "execution_count": 118,
      "outputs": [
        {
          "output_type": "stream",
          "text": [
            "3 Rekomendasi Mobil Terbaik menggunakan Supremum\n",
            "[('Toyota Agya', 2.0), ('Daihatsu Alya', 2.0), ('Toyota Avanza', 2.0)]\n"
          ],
          "name": "stdout"
        }
      ]
    },
    {
      "cell_type": "code",
      "metadata": {
        "id": "ns_JOK57K7BF"
      },
      "source": [
        "#Membuat file excel\n",
        "pd.DataFrame(sortedsupremum).to_excel('RekomendasiMobil2.xls', header=False, index = False)"
      ],
      "execution_count": 120,
      "outputs": []
    }
  ]
}